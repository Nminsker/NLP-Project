{
 "cells": [
  {
   "cell_type": "code",
   "execution_count": 46,
   "metadata": {},
   "outputs": [],
   "source": [
    "from datasets import load_dataset\n",
    "from torch.utils.data import DataLoader\n",
    "from transformers import AutoModel, AutoTokenizer\n",
    "from sentence_transformers import SentencesDataset, LoggingHandler, SentenceTransformer, util, InputExample, models, losses, SimilarityFunction\n",
    "\n",
    "from sentence_transformers.evaluation import EmbeddingSimilarityEvaluator\n",
    "import pandas as pd\n",
    "import math"
   ]
  },
  {
   "cell_type": "code",
   "execution_count": 4,
   "metadata": {},
   "outputs": [],
   "source": [
    "train_df = pd.read_json(\"Data\\HebNLI_train.jsonl\", lines=True)\n",
    "test_df = pd.read_json(\"Data\\HebNLI_test.jsonl\", lines=True)\n",
    "val_df = pd.read_json(\"Data\\HebNLI_val.jsonl\", lines=True)"
   ]
  },
  {
   "cell_type": "code",
   "execution_count": 5,
   "metadata": {},
   "outputs": [
    {
     "name": "stderr",
     "output_type": "stream",
     "text": [
      "C:\\Users\\Mintz\\AppData\\Local\\Temp\\ipykernel_40788\\2036904998.py:6: SettingWithCopyWarning: \n",
      "A value is trying to be set on a copy of a slice from a DataFrame.\n",
      "Try using .loc[row_indexer,col_indexer] = value instead\n",
      "\n",
      "See the caveats in the documentation: https://pandas.pydata.org/pandas-docs/stable/user_guide/indexing.html#returning-a-view-versus-a-copy\n",
      "  df[\"original_label\"] = df[\"original_label\"].apply(lambda x: LABEL_MAP[x.lower()],)\n",
      "Some weights of BertModel were not initialized from the model checkpoint at onlplab/alephbert-base and are newly initialized: ['bert.pooler.dense.bias', 'bert.pooler.dense.weight']\n",
      "You should probably TRAIN this model on a down-stream task to be able to use it for predictions and inference.\n",
      "Some weights of BertModel were not initialized from the model checkpoint at dicta-il/dictabert and are newly initialized: ['bert.pooler.dense.bias', 'bert.pooler.dense.weight']\n",
      "You should probably TRAIN this model on a down-stream task to be able to use it for predictions and inference.\n"
     ]
    }
   ],
   "source": [
    "# Prepare data\n",
    "LABEL_MAP = {\n",
    "    'entailment': 0, \n",
    "    'neutral': 1, \n",
    "    'contradiction': 2\n",
    "}\n",
    "\n",
    "def prepare_data(df) -> tuple:\n",
    "    df = df[df.original_label != '-']\n",
    "    df[\"original_label\"] = df[\"original_label\"].apply(lambda x: LABEL_MAP[x.lower()],)\n",
    "\n",
    "    return df.translation1, df.translation2, df.original_label\n",
    "\n",
    "def loadSts():\n",
    "    df = pd.read_csv(\"Data\\heb_sts_test.csv\")\n",
    "    return EmbeddingSimilarityEvaluator(\n",
    "        sentences1=df.sentece1,\n",
    "        sentences2=df.sentece2,\n",
    "        scores=df.score,\n",
    "        main_similiarity=SimilarityFunction.COSINE,\n",
    "        name=\"heb_sts_test\",\n",
    "    )\n",
    "\n",
    "train_premises, train_hypotheses, train_labels = prepare_data(train_df)\n",
    "validation_premises, validation_hypotheses, validation_labels = prepare_data(val_df)\n",
    "test_premises, test_hypotheses, test_labels = prepare_data(test_df)\n",
    "\n",
    "# Load model_map\n",
    "model_map = {\n",
    "    'AlephBERT': models.Transformer(\"onlplab/alephbert-base\"),\n",
    "    'mBERT': models.Transformer(\"bert-base-multilingual-cased\"),\n",
    "    'DictaBERT': models.Transformer(\"dicta-il/dictabert\"),\n",
    "}\n",
    "\n",
    "# Prepare training data\n",
    "train_samples = [\n",
    "    InputExample(texts=[premise, hypothesis], label=label)\n",
    "    for premise, hypothesis, label in zip(train_premises, train_hypotheses, train_labels)\n",
    "]\n",
    "\n",
    "validation_samples = [\n",
    "    InputExample(texts=[premise, hypothesis], label=label)\n",
    "    for premise, hypothesis, label in zip(validation_premises, validation_hypotheses, validation_labels)\n",
    "]\n",
    "\n",
    "train_batch_size = 16\n",
    "num_epochs = 1\n",
    "model_save_path = \"output/training_nli_hebrew\"\n",
    "\n",
    "# Create DataLoader\n",
    "train_dataloader = DataLoader(train_samples, shuffle=True, batch_size=train_batch_size)\n",
    "validation_dataloader = DataLoader(validation_samples, shuffle=False, batch_size=train_batch_size)"
   ]
  },
  {
   "cell_type": "code",
   "execution_count": 40,
   "metadata": {},
   "outputs": [
    {
     "data": {
      "text/plain": [
       "<torch.utils.data.dataloader.DataLoader at 0x27fbdc30850>"
      ]
     },
     "execution_count": 40,
     "metadata": {},
     "output_type": "execute_result"
    }
   ],
   "source": [
    "model = SentenceTransformer(\"bert-base-multilingual-cased\")\n",
    "train_loss = losses.SoftmaxLoss(\n",
    "    model=model,\n",
    "    sentence_embedding_dimension=model.get_sentence_embedding_dimension(),\n",
    "    num_labels=3\n",
    ")"
   ]
  },
  {
   "cell_type": "code",
   "execution_count": 22,
   "metadata": {},
   "outputs": [
    {
     "name": "stderr",
     "output_type": "stream",
     "text": [
      "No sentence-transformers model found with name bert-base-multilingual-cased. Creating a new one with mean pooling.\n"
     ]
    },
    {
     "name": "stdout",
     "output_type": "stream",
     "text": [
      "Embedding shape:  (2, 768)\n",
      "Similarities:\n",
      " tensor([[1.0000, 0.6714],\n",
      "        [0.6714, 1.0000]])\n"
     ]
    }
   ],
   "source": [
    "model = SentenceTransformer(\"bert-base-multilingual-cased\")\n",
    "embeddings = model.encode(train_samples[0].texts)\n",
    "print(\"Embedding shape: \",embeddings.shape)\n",
    "similarities = model.similarity(embeddings, embeddings)\n",
    "print(\"Similarities:\\n\", similarities)"
   ]
  },
  {
   "cell_type": "code",
   "execution_count": 24,
   "metadata": {},
   "outputs": [],
   "source": [
    "ent = next(s for s in train_samples if s.label == 0)\n",
    "contra = next(s for s in train_samples if s.label == 2)"
   ]
  },
  {
   "cell_type": "code",
   "execution_count": 25,
   "metadata": {},
   "outputs": [
    {
     "name": "stdout",
     "output_type": "stream",
     "text": [
      "Embedding shape:  (2, 768)\n",
      "Similarities:\n",
      " tensor([[1.0000, 0.7468],\n",
      "        [0.7468, 1.0000]])\n"
     ]
    }
   ],
   "source": [
    "embeddings = model.encode(ent.texts)\n",
    "print(\"Embedding shape: \",embeddings.shape)\n",
    "similarities = model.similarity(embeddings, embeddings)\n",
    "print(\"Similarities:\\n\", similarities)"
   ]
  },
  {
   "cell_type": "code",
   "execution_count": 26,
   "metadata": {},
   "outputs": [
    {
     "name": "stdout",
     "output_type": "stream",
     "text": [
      "Embedding shape:  (2, 768)\n",
      "Similarities:\n",
      " tensor([[1.0000, 0.7582],\n",
      "        [0.7582, 1.0000]])\n"
     ]
    }
   ],
   "source": [
    "embeddings = model.encode(contra.texts)\n",
    "print(\"Embedding shape: \",embeddings.shape)\n",
    "similarities = model.similarity(embeddings, embeddings)\n",
    "print(\"Similarities:\\n\", similarities)"
   ]
  },
  {
   "cell_type": "code",
   "execution_count": null,
   "metadata": {},
   "outputs": [],
   "source": [
    "loss = losses.Cos"
   ]
  }
 ],
 "metadata": {
  "kernelspec": {
   "display_name": "Python 3",
   "language": "python",
   "name": "python3"
  },
  "language_info": {
   "codemirror_mode": {
    "name": "ipython",
    "version": 3
   },
   "file_extension": ".py",
   "mimetype": "text/x-python",
   "name": "python",
   "nbconvert_exporter": "python",
   "pygments_lexer": "ipython3",
   "version": "3.9.19"
  }
 },
 "nbformat": 4,
 "nbformat_minor": 2
}
